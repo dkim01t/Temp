{
 "cells": [
  {
   "cell_type": "code",
   "execution_count": 4,
   "id": "f9c73e77",
   "metadata": {},
   "outputs": [
    {
     "ename": "ModuleNotFoundError",
     "evalue": "No module named 'creds'",
     "output_type": "error",
     "traceback": [
      "\u001b[1;31m---------------------------------------------------------------------------\u001b[0m",
      "\u001b[1;31mModuleNotFoundError\u001b[0m                       Traceback (most recent call last)",
      "\u001b[1;32m~\\AppData\\Local\\Temp\\ipykernel_1292\\2292636054.py\u001b[0m in \u001b[0;36m<module>\u001b[1;34m\u001b[0m\n\u001b[0;32m      1\u001b[0m \u001b[1;32mimport\u001b[0m \u001b[0mrequests\u001b[0m\u001b[1;33m\u001b[0m\u001b[1;33m\u001b[0m\u001b[0m\n\u001b[1;32m----> 2\u001b[1;33m \u001b[1;32mimport\u001b[0m \u001b[0mcreds\u001b[0m\u001b[1;33m\u001b[0m\u001b[1;33m\u001b[0m\u001b[0m\n\u001b[0m\u001b[0;32m      3\u001b[0m \u001b[1;32mimport\u001b[0m \u001b[0mcsv\u001b[0m\u001b[1;33m\u001b[0m\u001b[1;33m\u001b[0m\u001b[0m\n\u001b[0;32m      4\u001b[0m \u001b[1;32mimport\u001b[0m \u001b[0mpandas\u001b[0m \u001b[1;32mas\u001b[0m \u001b[0mpd\u001b[0m\u001b[1;33m\u001b[0m\u001b[1;33m\u001b[0m\u001b[0m\n\u001b[0;32m      5\u001b[0m \u001b[1;32mimport\u001b[0m \u001b[0mio\u001b[0m\u001b[1;33m\u001b[0m\u001b[1;33m\u001b[0m\u001b[0m\n",
      "\u001b[1;31mModuleNotFoundError\u001b[0m: No module named 'creds'"
     ]
    }
   ],
   "source": [
    "import requests\n",
    "import creds\n",
    "import csv\n",
    "import pandas as pd\n",
    "import io\n",
    "\n",
    "loginurl = ('https://edreports.ed.gov/reports/rwservlet/setauth')\n",
    "secure_url = ('https://edreports.ed.gov/reports/images/blaf-en.css')\n",
    "\n",
    "\n",
    "payload = {\n",
    "    'sysusername': creds.username,\n",
    "    'syspassword': creds.password,\n",
    "    'authtype': 'S',\n",
    "    'x': '33',\n",
    "    'y': '13',\n",
    "    'nextpage': 'edrpts&destype=cache&desformat=DELIMITEDDATA&report=g5_contcompxtract.rdf&fy_input=2023&',\n",
    "    'mask': 'ECs%3D',\n",
    "    'isjsp': 'no'\n",
    "    }\n",
    "\n",
    "\n",
    "r = requests.post(loginurl, data=payload, verify=False)\n",
    "# print(r.text)\n",
    "\n",
    "df = pd.read_csv(io.StringIO(r.text.replace('\\t\\t', '\\t')), sep='\\t', quoting=csv.QUOTE_ALL, encoding='utf-8')\n",
    "# with pd.option_context(\n",
    "#     'display.width', None, \n",
    "#     'display.max_columns', None,\n",
    "#     'display.max_colwidth', -1,\n",
    "#     'display.colheader_justify', 'left'):\n",
    "#     print()\n",
    "df.to_csv('K:\\\\Test\\TestNCC.csv', index=None)"
   ]
  },
  {
   "cell_type": "code",
   "execution_count": null,
   "id": "11cf0adb",
   "metadata": {},
   "outputs": [],
   "source": []
  },
  {
   "cell_type": "code",
   "execution_count": null,
   "id": "30fcef9e",
   "metadata": {},
   "outputs": [],
   "source": []
  }
 ],
 "metadata": {
  "kernelspec": {
   "display_name": "Python 3 (ipykernel)",
   "language": "python",
   "name": "python3"
  },
  "language_info": {
   "codemirror_mode": {
    "name": "ipython",
    "version": 3
   },
   "file_extension": ".py",
   "mimetype": "text/x-python",
   "name": "python",
   "nbconvert_exporter": "python",
   "pygments_lexer": "ipython3",
   "version": "3.9.13"
  }
 },
 "nbformat": 4,
 "nbformat_minor": 5
}
