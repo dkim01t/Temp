{
 "cells": [
  {
   "cell_type": "code",
   "execution_count": null,
   "id": "112543ee",
   "metadata": {},
   "outputs": [],
   "source": [
    "cities = {\n",
    "    \"New York\": {\n",
    "        \"coun\": \"USA\",\n",
    "        \"pop\": 8.8e6,\n",
    "        \"fact\": \"Empire State Building\"},\n",
    "    \"Seoul\": {\n",
    "        \"coun\": \"Korea\",\n",
    "        \"pop\": 9.9e6,\n",
    "        \"fact\": \"Lotte World Tower\"},\n",
    "    \"Tokyo\": {\n",
    "        \"coun\": \"Japan\",\n",
    "        \"pop\": 14.0e6,\n",
    "        \"fact\": \"Tokyo Skytree\"}\n",
    "}\n",
    "\n",
    "\n",
    "for city, info in cities.items():\n",
    "    print(f\"{city}:\")\n",
    "    print(f\"\\tCountry: {info['coun']}\")\n",
    "    print(f\"\\tPopulation: {info['pop']:,.0f}\")\n",
    "    print(f\"\\tFact: {info['fact']}\\n\")\n"
   ]
  },
  {
   "cell_type": "code",
   "execution_count": null,
   "id": "49c6ab03",
   "metadata": {},
   "outputs": [],
   "source": [
    "rivers = {\"Nile\": \"Egypt\",\n",
    "    \"Mississippi River\": \"USA\",\n",
    "    \"Han River\": \"Korea\"}\n",
    "\n",
    "for ri, coun in rivers.items():\n",
    "    print(f\"The {ri} runs through {coun}.\")\n",
    "\n",
    "print(\"\\nRiver:\")\n",
    "for ri in rivers.keys():\n",
    "    print(f\"\\t{ri}\")\n",
    "\n",
    "print(\"\\nCountries:\")\n",
    "for coun in rivers.values():\n",
    "    print(f\"\\t{coun}\")\n"
   ]
  },
  {
   "cell_type": "code",
   "execution_count": null,
   "id": "6cf056e2",
   "metadata": {},
   "outputs": [],
   "source": [
    "def se(n):\n",
    "    seq = [n]\n",
    "    while n != 1:\n",
    "        if n % 2 == 0:\n",
    "            n /=  2\n",
    "        else:\n",
    "            n = n * 3 + 1\n",
    "        seq.append(n)\n",
    "    return seq\n",
    "\n",
    "while True:\n",
    "    num = int(input(\"Enter a number: \"))\n",
    "    #print(\"Sequence:\", f\"{se(num)}\")\n",
    "    for i in se(num):\n",
    "        print(f\"{i:.0f}\",end=\" \")\n",
    "    print(\"\\n\")\n",
    "    choice = input(\"Continue? (y/n): \")\n",
    "    print(\"\\n\")\n",
    "    if choice.lower() != 'y':\n",
    "        break\n"
   ]
  },
  {
   "cell_type": "code",
   "execution_count": 11,
   "id": "ac395ad1",
   "metadata": {},
   "outputs": [
    {
     "name": "stdout",
     "output_type": "stream",
     "text": [
      "['i', 'am', 'sick']\n",
      "['you', 'are', 'sick']\n",
      "you are sick\n"
     ]
    }
   ],
   "source": [
    "patterns = {\n",
    "    \"i\": \"you\",\n",
    "    \"me\": \"you\",\n",
    "    \"my\": \"your\",\n",
    "    \"am\": \"are\"}\n",
    "string = \"i am sick\"\n",
    "words = string.split()\n",
    "print(words)\n",
    "for i in range(len(words)):\n",
    "    word = words[i].lower()\n",
    "    if word in patterns:\n",
    "        words[i] = patterns[word]\n",
    "print(words)\n",
    "print(\" \".join(words))\n"
   ]
  },
  {
   "cell_type": "code",
   "execution_count": 1,
   "id": "90bc9b60",
   "metadata": {},
   "outputs": [
    {
     "name": "stdout",
     "output_type": "stream",
     "text": [
      "Good day. What is your problem?\n",
      "> My teacher hates me\n",
      "Why do you say that your teacher hates you?\n",
      "> stop\n"
     ]
    }
   ],
   "source": [
    "patterns = {\n",
    "    \"i\": \"you\",\n",
    "    \"me\": \"you\",\n",
    "    \"my\": \"your\",\n",
    "    \"am\": \"are\"\n",
    "}\n",
    "\n",
    "def replace_words(string, patterns):\n",
    "    words = string.split()\n",
    "    for i in range(len(words)):\n",
    "        word = words[i]\n",
    "        if word in patterns:\n",
    "            words[i] = patterns[word]\n",
    "    return \" \".join(words)\n",
    "\n",
    "def eliza():\n",
    "    print(\"Good day. What is your problem?\")\n",
    "    \n",
    "    while True:\n",
    "        user_input = input(\"> \").lower()\n",
    "        if user_input == \"stop\":\n",
    "            break\n",
    "        response = replace_words(user_input, patterns)\n",
    "        response = f\"Why do you say that {response}?\"\n",
    "        print(response)\n",
    "    \n",
    "eliza()\n"
   ]
  },
  {
   "cell_type": "code",
   "execution_count": 45,
   "id": "840827d8",
   "metadata": {},
   "outputs": [
    {
     "name": "stdout",
     "output_type": "stream",
     "text": [
      "Would you like to see the menu? (y/n) y\n",
      "\n",
      "Menu item - Price\n",
      "--------------------\n",
      "Salad - $8.50\n",
      "Burger - $9.95\n",
      "Cola - $3.45\n",
      "Honeybun - $12.75\n",
      "Banana - $1.25\n",
      "Water - $1.50\n",
      "\n",
      "Order? (y/n) y\n",
      "Enter item: Salad\n",
      "Enter quantity: 5\n",
      "Enter tax (y/n): y\n",
      "Enter state: MD\n",
      "Order again? (y/n) y\n",
      "Enter item: Banana\n",
      "Enter quantity: 7\n",
      "Enter tax (y/n): n\n",
      "Order again? (y/n) y\n",
      "Enter item: Burger\n",
      "Enter quantity: 4\n",
      "Enter tax (y/n): y\n",
      "Enter state: VA\n",
      "Order again? (y/n) n\n",
      "[{'item': 'Salad', 'qty': 5, 'tax': 0.06}, {'item': 'Banana', 'qty': 7, 'tax': 0}, {'item': 'Burger', 'qty': 4, 'tax': 0.053}]\n"
     ]
    }
   ],
   "source": [
    "menu = {\"Salad\":8.50,\n",
    "        \"Burger\":9.95,\n",
    "        \"Cola\":3.45,\n",
    "        \"Honeybun\":12.75,\n",
    "        \"Banana\":1.25,\n",
    "        \"Water\":1.50\n",
    "        }\n",
    "\n",
    "tax = {\"MD\":0.06,\n",
    "      \"DC\":0.053,\n",
    "      \"VA\":0.57,\n",
    "      \"Other\": 0.05\n",
    "      }\n",
    "\n",
    "menuC = input(\"Would you like to see the menu? (y/n) \")\n",
    "\n",
    "if menuC.lower() == \"y\":\n",
    "  print(\"\\nMenu item - Price\")\n",
    "  print(\"-\"*20)\n",
    "  for a, b in menu.items():\n",
    "    print(f\"{a} - ${b:.2f}\")\n",
    "  print()\n",
    "\n",
    "order = {}\n",
    "cart = []\n",
    "total = 0\n",
    "\n",
    "orderC = input(\"Order? (y/n) \")\n",
    "while orderC.lower() == \"y\":\n",
    "    item = input(\"Enter item: \")\n",
    "    qty = int(input(\"Enter quantity: \"))\n",
    "    tax = input(\"Enter tax (y/n): \")\n",
    "    if tax.lower() == \"y\":\n",
    "        state = input(\"Enter state: \")\n",
    "    else :\n",
    "        state = 0\n",
    "    order[\"item\"] = item\n",
    "    order[\"qty\"] = qty\n",
    "    order[\"tax\"] = state\n",
    "    cart.append(order.copy())\n",
    "    orderC = input(\"Order again? (y/n) \")  \n",
    "\n",
    "for i in range(len(cart)):\n",
    "    if cart[i]['tax'] == \"MD\":\n",
    "        cart[i]['tax'] = 0.06\n",
    "    elif cart[i]['tax'] == \"VA\":\n",
    "        cart[i]['tax'] = 0.053\n",
    "    elif cart[i]['tax'] == \"DC\":\n",
    "        cart[i]['tax'] = 0.057\n",
    "    elif cart[i]['tax'] == \"Other\":\n",
    "        cart[i]['tax'] = 0.05\n",
    "        \n",
    "    \n",
    "#     if item in menu:\n",
    "#         sub = menu[item] * qu\n",
    "      \n",
    "#         if item in order:\n",
    "#             order[item] += qu\n",
    "#         else:\n",
    "#             order[item] = qu\n",
    "#             total += sub   \n",
    "#     else:\n",
    "#         print(f\"Try again, {item} is not on the menu.\")\n",
    "#     orderC = input(\"Order again? (y/n) \")\n",
    "    \n",
    "print (cart)"
   ]
  },
  {
   "cell_type": "code",
   "execution_count": 20,
   "id": "792a5d4f",
   "metadata": {},
   "outputs": [
    {
     "name": "stdout",
     "output_type": "stream",
     "text": [
      "[{'item': 'Salad', 'qty': 30, 'tax': 'MD'}, {'item': 'Cola', 'qty': 5, 'tax': 'Other'}]\n"
     ]
    }
   ],
   "source": [
    "print(cart)"
   ]
  },
  {
   "cell_type": "code",
   "execution_count": 44,
   "id": "fda560ff",
   "metadata": {},
   "outputs": [
    {
     "name": "stdout",
     "output_type": "stream",
     "text": [
      "Salad\n",
      "[{'item': 'Cola', 'qty': 5, 'tax': 0.06}, {'item': 'Salad', 'qty': 77, 'tax': 0.053}]\n"
     ]
    }
   ],
   "source": [
    "tax = [{'item': 'Salad', 'qty': 30, 'tax': 'MD'}, {'item': 'Cola', 'qty': 5, 'tax': 'Other'}]\n",
    "print(tax[0]['item'])\n",
    "\n",
    "for i in range(len(cart)):\n",
    "    if cart[i]['tax'] == \"MD\":\n",
    "        cart[i]['tax'] = 0.06\n",
    "    elif cart[i]['tax'] == \"VA\":\n",
    "        cart[i]['tax'] = 0.053\n",
    "    elif cart[i]['tax'] == \"DC\":\n",
    "        cart[i]['tax'] = 0.057\n",
    "    elif cart[i]['tax'] == \"Other\":\n",
    "        cart[i]['tax'] = 0.05\n",
    "        \n",
    "print(cart)"
   ]
  },
  {
   "cell_type": "code",
   "execution_count": null,
   "id": "4de03950",
   "metadata": {},
   "outputs": [],
   "source": []
  }
 ],
 "metadata": {
  "kernelspec": {
   "display_name": "Python 3 (ipykernel)",
   "language": "python",
   "name": "python3"
  },
  "language_info": {
   "codemirror_mode": {
    "name": "ipython",
    "version": 3
   },
   "file_extension": ".py",
   "mimetype": "text/x-python",
   "name": "python",
   "nbconvert_exporter": "python",
   "pygments_lexer": "ipython3",
   "version": "3.9.7"
  }
 },
 "nbformat": 4,
 "nbformat_minor": 5
}
