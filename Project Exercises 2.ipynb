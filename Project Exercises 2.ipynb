{
 "cells": [
  {
   "cell_type": "code",
   "execution_count": null,
   "id": "112543ee",
   "metadata": {},
   "outputs": [],
   "source": [
    "cities = {\n",
    "    \"New York\": {\n",
    "        \"coun\": \"USA\",\n",
    "        \"pop\": 8.8e6,\n",
    "        \"fact\": \"Empire State Building\"},\n",
    "    \"Seoul\": {\n",
    "        \"coun\": \"Korea\",\n",
    "        \"pop\": 9.9e6,\n",
    "        \"fact\": \"Lotte World Tower\"},\n",
    "    \"Tokyo\": {\n",
    "        \"coun\": \"Japan\",\n",
    "        \"pop\": 14.0e6,\n",
    "        \"fact\": \"Tokyo Skytree\"}\n",
    "}\n",
    "\n",
    "\n",
    "for city, info in cities.items():\n",
    "    print(f\"{city}:\")\n",
    "    print(f\"\\tCountry: {info['coun']}\")\n",
    "    print(f\"\\tPopulation: {info['pop']:,.0f}\")\n",
    "    print(f\"\\tFact: {info['fact']}\\n\")\n"
   ]
  },
  {
   "cell_type": "code",
   "execution_count": null,
   "id": "49c6ab03",
   "metadata": {},
   "outputs": [],
   "source": [
    "rivers = {\"Nile\": \"Egypt\",\n",
    "    \"Mississippi River\": \"USA\",\n",
    "    \"Han River\": \"Korea\"}\n",
    "\n",
    "for ri, coun in rivers.items():\n",
    "    print(f\"The {ri} runs through {coun}.\")\n",
    "\n",
    "print(\"\\nRiver:\")\n",
    "for ri in rivers.keys():\n",
    "    print(f\"\\t{ri}\")\n",
    "\n",
    "print(\"\\nCountries:\")\n",
    "for coun in rivers.values():\n",
    "    print(f\"\\t{coun}\")\n"
   ]
  },
  {
   "cell_type": "code",
   "execution_count": null,
   "id": "6cf056e2",
   "metadata": {},
   "outputs": [],
   "source": [
    "def se(n):\n",
    "    seq = [n]\n",
    "    while n != 1:\n",
    "        if n % 2 == 0:\n",
    "            n /=  2\n",
    "        else:\n",
    "            n = n * 3 + 1\n",
    "        seq.append(n)\n",
    "    return seq\n",
    "\n",
    "while True:\n",
    "    num = int(input(\"Enter a number: \"))\n",
    "    #print(\"Sequence:\", f\"{se(num)}\")\n",
    "    for i in se(num):\n",
    "        print(f\"{i:.0f}\",end=\" \")\n",
    "    print(\"\\n\")\n",
    "    choice = input(\"Continue? (y/n): \")\n",
    "    print(\"\\n\")\n",
    "    if choice.lower() != 'y':\n",
    "        break\n"
   ]
  }
 ],
 "metadata": {
  "kernelspec": {
   "display_name": "Python 3 (ipykernel)",
   "language": "python",
   "name": "python3"
  },
  "language_info": {
   "codemirror_mode": {
    "name": "ipython",
    "version": 3
   },
   "file_extension": ".py",
   "mimetype": "text/x-python",
   "name": "python",
   "nbconvert_exporter": "python",
   "pygments_lexer": "ipython3",
   "version": "3.9.7"
  }
 },
 "nbformat": 4,
 "nbformat_minor": 5
}
