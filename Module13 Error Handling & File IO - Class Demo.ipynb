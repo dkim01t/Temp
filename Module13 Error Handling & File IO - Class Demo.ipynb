{
 "cells": [
  {
   "cell_type": "markdown",
   "metadata": {},
   "source": [
    "### Handling Exceptions"
   ]
  },
  {
   "cell_type": "code",
   "execution_count": null,
   "metadata": {},
   "outputs": [],
   "source": [
    "# Exception Error Handling\n",
    "\n",
    "print(10 / 2)\n",
    "print(10 / 0)\n",
    "print(10 / 5)\n"
   ]
  },
  {
   "cell_type": "code",
   "execution_count": null,
   "metadata": {},
   "outputs": [],
   "source": [
    "def test(parm1, parm2) :\n",
    "    print(f\"In test with parm1={parm1} parm2={parm2}\")\n",
    "    \n",
    "    try:\n",
    "        retval = parm1/parm2\n",
    "    except :\n",
    "        print(\"exception occured\")\n",
    "        retval = 0\n",
    "        \n",
    "    return retval   \n"
   ]
  },
  {
   "cell_type": "code",
   "execution_count": null,
   "metadata": {},
   "outputs": [],
   "source": [
    "print(f\"result={test(10, 5)}\")\n",
    "print(\"*\" * 20)"
   ]
  },
  {
   "cell_type": "code",
   "execution_count": null,
   "metadata": {},
   "outputs": [],
   "source": [
    "print(f\"result={test(10, 0)}\")\n",
    "print(\"*\" * 20)"
   ]
  },
  {
   "cell_type": "code",
   "execution_count": null,
   "metadata": {},
   "outputs": [],
   "source": [
    "# import module sys to get the type of exception\n",
    "import sys\n",
    "\n",
    "def divide(parm1, parm2) :\n",
    "    print(f\"In divide with parm1={parm1} parm2={parm2}\")\n",
    "           \n",
    "    try:\n",
    "        retval = parm1/parm2\n",
    "    except:\n",
    "        \n",
    "        print(\"***ERROR: \", sys.exc_info()[0], \"occurred.\")\n",
    "        print(\"Next entry.\")\n",
    "        retval = 0\n",
    "        \n",
    "    return retval   \n",
    "\n",
    "val1 = int(input(\"Enter first number: \"))\n",
    "val2 = int(input(\"Enter second number: \")) \n",
    "print(f\"result={divide(val1, val2)}\")\n",
    "print(\"*\" * 20)"
   ]
  },
  {
   "cell_type": "code",
   "execution_count": null,
   "metadata": {},
   "outputs": [],
   "source": [
    "val1 = int(input(\"Enter first number: \"))\n",
    "val2 = int(input(\"Enter second number: \")) \n",
    "print(f\"result={divide(val1, val2)}\")\n",
    "print(\"*\" * 20)"
   ]
  },
  {
   "cell_type": "markdown",
   "metadata": {},
   "source": [
    "### Exercise 1\n",
    "Write a program that prompts for an integer. Catch an exception error if input value is not an integer and print a friendly error message. \n",
    "The output should look something like this:\n",
    "\n",
    "    Enter an integer: 123.0\n",
    "    *** ERROR: 123.0 is not an integer\n",
    "\n",
    "    Enter an integer: abc\n",
    "    *** ERROR: abc is not an integer\n",
    "\n",
    "    Enter an integer: 123\n",
    "    123 is an integer"
   ]
  },
  {
   "cell_type": "code",
   "execution_count": 4,
   "metadata": {},
   "outputs": [
    {
     "name": "stdout",
     "output_type": "stream",
     "text": [
      "Enter an integer: 4\n",
      "4 is an integer\n"
     ]
    }
   ],
   "source": [
    "a = input(\"Enter an integer: \")\n",
    "try:\n",
    "    var = int(a)\n",
    "except:\n",
    "    print(f\"***ERROR: {a} is not an integer\")\n",
    "print(f\"{a} is an integer\")"
   ]
  },
  {
   "cell_type": "code",
   "execution_count": null,
   "metadata": {},
   "outputs": [],
   "source": []
  },
  {
   "cell_type": "code",
   "execution_count": null,
   "metadata": {},
   "outputs": [],
   "source": []
  },
  {
   "cell_type": "code",
   "execution_count": null,
   "metadata": {},
   "outputs": [],
   "source": [
    "# another solution...\n",
    "\n",
    "\n",
    "import sys\n",
    "\n",
    "def check_integer2(parm1) :\n",
    "        \n",
    "    try:\n",
    "        retval = int(parm1)\n",
    "        retval = True\n",
    "    except:\n",
    "        print(f\"***ERROR: {parm1} is not an integer\")\n",
    "        print(\"***ERROR: \", sys.exc_info()[0], \"occurred.\")        \n",
    "        retval = False\n",
    "        \n",
    "    return retval   \n"
   ]
  },
  {
   "cell_type": "code",
   "execution_count": null,
   "metadata": {},
   "outputs": [],
   "source": [
    "val1 = input(\"Enter an integer: \")\n",
    "if (check_integer2(val1)) :\n",
    "    print(f\"{val1} is an integer\")\n",
    "\n",
    "print(\"*\" * 20)\n",
    "val1 = input(\"\\nEnter an integer: \")\n",
    "if (check_integer2(val1)) :\n",
    "    print(f\"{val1} is an integer\")\n",
    "    \n",
    "print(\"*\" * 20)\n",
    "val1 = input(\"\\nEnter an integer: \")\n",
    "if (check_integer2(val1)) :\n",
    "    print(f\"{val1} is an integer\")\n",
    "print(\"*\" * 20)    "
   ]
  },
  {
   "cell_type": "code",
   "execution_count": null,
   "metadata": {},
   "outputs": [],
   "source": []
  },
  {
   "cell_type": "code",
   "execution_count": null,
   "metadata": {},
   "outputs": [],
   "source": []
  },
  {
   "cell_type": "markdown",
   "metadata": {},
   "source": [
    "#### types of exception error"
   ]
  },
  {
   "cell_type": "code",
   "execution_count": null,
   "metadata": {},
   "outputs": [],
   "source": [
    "print(3 / 0)"
   ]
  },
  {
   "cell_type": "code",
   "execution_count": null,
   "metadata": {},
   "outputs": [],
   "source": [
    "3_vars = 3\n"
   ]
  },
  {
   "cell_type": "code",
   "execution_count": null,
   "metadata": {},
   "outputs": [],
   "source": [
    "val1 = \"10\"\n",
    "val2 = 20\n",
    "print(val1 + val2)"
   ]
  },
  {
   "cell_type": "code",
   "execution_count": null,
   "metadata": {},
   "outputs": [],
   "source": [
    "print(z_a)"
   ]
  },
  {
   "cell_type": "markdown",
   "metadata": {},
   "source": [
    "#### Catch a specific exception error"
   ]
  },
  {
   "cell_type": "code",
   "execution_count": null,
   "metadata": {},
   "outputs": [],
   "source": [
    "\n",
    "z_a = 1\n",
    "try :\n",
    "    print(z_b)\n",
    "except TypeError :\n",
    "    print(\"TypeError occured\")\n",
    "except :\n",
    "    print(\"Something else went wrong\")"
   ]
  },
  {
   "cell_type": "code",
   "execution_count": null,
   "metadata": {},
   "outputs": [],
   "source": [
    "try :\n",
    "    print(z_b)\n",
    "except TypeError :\n",
    "    print(\"TypeError occured\")\n",
    "except NameError :\n",
    "    print(\"NameError occured\")\n",
    "except :\n",
    "    print(\"Something else went wrong\")"
   ]
  },
  {
   "cell_type": "code",
   "execution_count": null,
   "metadata": {},
   "outputs": [],
   "source": [
    "x = 1\n",
    "\n",
    "try :\n",
    "    print(x/0)\n",
    "    \n",
    "except NameError :\n",
    "    print(\"Variable x is not defined\")\n",
    "    \n",
    "except :\n",
    "    print(\"Something else went wrong\")\n",
    "    \n",
    "else :\n",
    "    print(\"All went well.\")\n",
    "    \n",
    "finally :\n",
    "    print(\"All done.\")"
   ]
  },
  {
   "cell_type": "code",
   "execution_count": null,
   "metadata": {},
   "outputs": [],
   "source": []
  },
  {
   "cell_type": "markdown",
   "metadata": {},
   "source": [
    "#### raise an exception error - force an exception error"
   ]
  },
  {
   "cell_type": "code",
   "execution_count": null,
   "metadata": {},
   "outputs": [],
   "source": [
    "# raise exception error - force an exception error\n",
    "\n",
    "x = \"hello\"\n",
    "\n",
    "if type(x) is not int :\n",
    "    raise TypeError(\"Only integers\")\n",
    "    "
   ]
  },
  {
   "cell_type": "code",
   "execution_count": null,
   "metadata": {},
   "outputs": [],
   "source": [
    "x = 2    \n",
    "\n",
    "try :\n",
    "    if x < 10 :\n",
    "#        raise SyntaxError()\n",
    "#        raise TypeError()\n",
    "        raise ValueError()\n",
    "    \n",
    "    y = int(x)\n",
    "    \n",
    "except TypeError: \n",
    "    print(\"TypeError\")\n",
    "except ValueError:\n",
    "    print(\"ValueError\")\n",
    "except :\n",
    "    print(\"Something else\" )\n",
    "    \n",
    "print(\"Done\")    "
   ]
  },
  {
   "cell_type": "code",
   "execution_count": null,
   "metadata": {},
   "outputs": [],
   "source": []
  },
  {
   "cell_type": "code",
   "execution_count": null,
   "metadata": {},
   "outputs": [],
   "source": []
  },
  {
   "cell_type": "markdown",
   "metadata": {},
   "source": [
    "## File I/O"
   ]
  },
  {
   "cell_type": "markdown",
   "metadata": {},
   "source": [
    "#### write to a file"
   ]
  },
  {
   "cell_type": "code",
   "execution_count": null,
   "metadata": {},
   "outputs": [],
   "source": [
    "# check if file exists using cmd window or file folder\n",
    "FILE_PATH=\"c:/user/sue/downloads/\"\n",
    "out_file = open(FILE_PATH+'my_file', 'w')  \n",
    "out_file.write(\"Hello World\")\n",
    "out_file.close()\n",
    "\n"
   ]
  },
  {
   "cell_type": "code",
   "execution_count": null,
   "metadata": {},
   "outputs": [],
   "source": [
    "# check if file exists using cmd window or file folder\n",
    "\n",
    "out_file = open('my_file3', 'w')  \n",
    "out_file.write(\"Hello World\")\n",
    "out_file.close()\n",
    "\n"
   ]
  },
  {
   "cell_type": "markdown",
   "metadata": {},
   "source": [
    "Check if file exists using Jupyter directory.\n",
    "What is the size of the file?"
   ]
  },
  {
   "cell_type": "code",
   "execution_count": 21,
   "metadata": {},
   "outputs": [
    {
     "data": {
      "text/plain": [
       "25"
      ]
     },
     "execution_count": 21,
     "metadata": {},
     "output_type": "execute_result"
    }
   ],
   "source": [
    "# over-write file\n",
    "\n",
    "out_file = open('my_file', 'w')\n",
    "out_file.write(\"Hello World, here I come!\")\n"
   ]
  },
  {
   "cell_type": "markdown",
   "metadata": {},
   "source": [
    "Check the size of the file, again. What is the size? "
   ]
  },
  {
   "cell_type": "code",
   "execution_count": 22,
   "metadata": {},
   "outputs": [],
   "source": [
    "out_file.close()"
   ]
  },
  {
   "cell_type": "markdown",
   "metadata": {},
   "source": [
    "Check the size of the file, again. What is the size?  <b>Why?</b>"
   ]
  },
  {
   "cell_type": "markdown",
   "metadata": {},
   "source": [
    "### Exercise 2\n",
    "Create a file named <b>test_file</b> and write your name in it.\n",
    "Confirm its content."
   ]
  },
  {
   "cell_type": "code",
   "execution_count": 17,
   "metadata": {},
   "outputs": [],
   "source": [
    "out_file = open('test_file', 'w')  \n",
    "out_file.write(\"Name\")\n",
    "out_file.close()"
   ]
  },
  {
   "cell_type": "code",
   "execution_count": 18,
   "metadata": {},
   "outputs": [
    {
     "name": "stdout",
     "output_type": "stream",
     "text": [
      "Name\n"
     ]
    }
   ],
   "source": [
    "af= open('test_file')  \n",
    "print(af.read())"
   ]
  },
  {
   "cell_type": "markdown",
   "metadata": {},
   "source": [
    "#### read a file"
   ]
  },
  {
   "cell_type": "code",
   "execution_count": 19,
   "metadata": {},
   "outputs": [],
   "source": [
    "file = open(\"test_file\", \"r\")\n",
    "file.close()"
   ]
  },
  {
   "cell_type": "code",
   "execution_count": 20,
   "metadata": {},
   "outputs": [
    {
     "ename": "FileNotFoundError",
     "evalue": "[Errno 2] No such file or directory: 'myFile'",
     "output_type": "error",
     "traceback": [
      "\u001b[1;31m---------------------------------------------------------------------------\u001b[0m",
      "\u001b[1;31mFileNotFoundError\u001b[0m                         Traceback (most recent call last)",
      "\u001b[1;32mC:\\Users\\GBTC40~1\\AppData\\Local\\Temp/ipykernel_11256/2931343875.py\u001b[0m in \u001b[0;36m<module>\u001b[1;34m\u001b[0m\n\u001b[1;32m----> 1\u001b[1;33m \u001b[0minput_file\u001b[0m \u001b[1;33m=\u001b[0m \u001b[0mopen\u001b[0m\u001b[1;33m(\u001b[0m\u001b[1;34m\"myFile\"\u001b[0m\u001b[1;33m,\u001b[0m \u001b[1;34m\"r\"\u001b[0m\u001b[1;33m)\u001b[0m\u001b[1;33m\u001b[0m\u001b[1;33m\u001b[0m\u001b[0m\n\u001b[0m\u001b[0;32m      2\u001b[0m \u001b[0minput_file\u001b[0m\u001b[1;33m.\u001b[0m\u001b[0mclose\u001b[0m\u001b[1;33m(\u001b[0m\u001b[1;33m)\u001b[0m\u001b[1;33m\u001b[0m\u001b[1;33m\u001b[0m\u001b[0m\n",
      "\u001b[1;31mFileNotFoundError\u001b[0m: [Errno 2] No such file or directory: 'myFile'"
     ]
    }
   ],
   "source": [
    "input_file = open(\"myFile\", \"r\")\n",
    "input_file.close()"
   ]
  },
  {
   "cell_type": "code",
   "execution_count": null,
   "metadata": {},
   "outputs": [],
   "source": [
    "try :\n",
    "    input_file = open(\"myFile\", \"r\")\n",
    "except :\n",
    "    print(\"myFile doesn't exist\")\n"
   ]
  },
  {
   "cell_type": "code",
   "execution_count": null,
   "metadata": {},
   "outputs": [],
   "source": [
    "input_file"
   ]
  },
  {
   "cell_type": "code",
   "execution_count": 23,
   "metadata": {},
   "outputs": [],
   "source": [
    "try :\n",
    "    input_file = open(\"my_file\", \"r\")\n",
    "except :\n",
    "    print(\"my_file doesn't exist\")\n",
    "else :    \n",
    "    input_file.close()"
   ]
  },
  {
   "cell_type": "code",
   "execution_count": null,
   "metadata": {},
   "outputs": [],
   "source": [
    "out_file = open('my_file', 'w')\n",
    "out_file.write(\"Hello World.\\nHere I come, again!\")\n",
    "out_file.close()"
   ]
  },
  {
   "cell_type": "code",
   "execution_count": 24,
   "metadata": {},
   "outputs": [
    {
     "name": "stdout",
     "output_type": "stream",
     "text": [
      "Name of the file: my_file\n",
      "Closed status of the file: False\n",
      "Mode of the file: r\n"
     ]
    }
   ],
   "source": [
    "try :\n",
    "    input_file = open(\"my_file\", \"r\")\n",
    "    \n",
    "    print(\"Name of the file:\", input_file.name)    \n",
    "    print(\"Closed status of the file:\", input_file.closed)    \n",
    "    print(\"Mode of the file:\", input_file.mode)    \n",
    "    \n",
    "except :\n",
    "    print(\"my_file doesn't exist\")\n",
    "else :    \n",
    "    input_file.close()"
   ]
  },
  {
   "cell_type": "code",
   "execution_count": 25,
   "metadata": {},
   "outputs": [
    {
     "name": "stdout",
     "output_type": "stream",
     "text": [
      "True\n"
     ]
    }
   ],
   "source": [
    "print(input_file.closed)"
   ]
  },
  {
   "cell_type": "markdown",
   "metadata": {},
   "source": [
    "#### read()"
   ]
  },
  {
   "cell_type": "code",
   "execution_count": null,
   "metadata": {
    "scrolled": true
   },
   "outputs": [],
   "source": [
    "in_file = open(\"rowboat.txt\", \"r\")\n",
    "data_str = in_file.read()\n",
    "\n",
    "print(type(data_str))\n",
    "print(data_str)\n",
    "print()\n",
    "print(data_str.replace(\"\\n\", \"***\"))\n",
    "\n",
    "in_file.close()"
   ]
  },
  {
   "cell_type": "code",
   "execution_count": null,
   "metadata": {},
   "outputs": [],
   "source": [
    "in_file.closed"
   ]
  },
  {
   "cell_type": "markdown",
   "metadata": {},
   "source": [
    "#### readlines()"
   ]
  },
  {
   "cell_type": "code",
   "execution_count": null,
   "metadata": {},
   "outputs": [],
   "source": [
    "in_file = open(\"rowboat.txt\", \"r\")\n",
    "data_list = in_file.readlines()\n",
    "print(type(data_list))\n",
    "print(data_list)\n",
    "print()\n",
    "\n",
    "for item in data_list :\n",
    "    #print(item.replace(\"\\n\", \"***\"))\n",
    "    print(item, end=\"\")\n",
    "    \n",
    "in_file.close()"
   ]
  },
  {
   "cell_type": "markdown",
   "metadata": {},
   "source": [
    "#### readline()"
   ]
  },
  {
   "cell_type": "code",
   "execution_count": null,
   "metadata": {},
   "outputs": [],
   "source": [
    "in_file = open(\"rowboat.txt\", \"r\")\n",
    "data_list = in_file.readline()\n",
    "print(type(data_list))\n",
    "print(data_list)"
   ]
  },
  {
   "cell_type": "code",
   "execution_count": null,
   "metadata": {},
   "outputs": [],
   "source": [
    "data_list = in_file.readline()\n",
    "print(type(data_list))\n",
    "print(data_list)"
   ]
  },
  {
   "cell_type": "code",
   "execution_count": null,
   "metadata": {},
   "outputs": [],
   "source": [
    "in_file.close()"
   ]
  },
  {
   "cell_type": "code",
   "execution_count": null,
   "metadata": {},
   "outputs": [],
   "source": [
    "in_file = open(\"rowboat.txt\", \"r\")\n",
    "line = in_file.readline()\n",
    "while line :   \n",
    "    print(type(line))\n",
    "    print(line)\n",
    "    line = in_file.readline()\n",
    "\n",
    "in_file.close()"
   ]
  },
  {
   "cell_type": "code",
   "execution_count": null,
   "metadata": {},
   "outputs": [],
   "source": [
    "print(\">>>\"+line+\"<<<\")"
   ]
  },
  {
   "cell_type": "code",
   "execution_count": null,
   "metadata": {},
   "outputs": [],
   "source": [
    "in_file = open(\"rowboat.txt\", \"r\")\n",
    "\n",
    "for line in in_file :   #using for loop to read a line at a time\n",
    "    print(type(line))\n",
    "    print(line)\n",
    "\n",
    "in_file.close()"
   ]
  },
  {
   "cell_type": "markdown",
   "metadata": {},
   "source": [
    "### Exercise 3\n",
    "Copy <b>my_file</b> to <b>my_file_copy</b>. Also, print out the length of the file."
   ]
  },
  {
   "cell_type": "code",
   "execution_count": 60,
   "metadata": {},
   "outputs": [
    {
     "name": "stdout",
     "output_type": "stream",
     "text": [
      "Hello World, here I come!\n"
     ]
    }
   ],
   "source": [
    "temp = open(\"my_file\")\n",
    "print(temp.read())\n",
    "temp2 = open(\"my_file_copy\", \"w\")\n",
    "temp.seek(0)\n",
    "temp2.write(temp.read())\n",
    "temp2.close()\n",
    "temp.close()"
   ]
  },
  {
   "cell_type": "code",
   "execution_count": 61,
   "metadata": {},
   "outputs": [
    {
     "name": "stdout",
     "output_type": "stream",
     "text": [
      "Hello World, here I come!\n"
     ]
    }
   ],
   "source": [
    "a = open(\"my_file_copy\")\n",
    "print(a.read())"
   ]
  },
  {
   "cell_type": "markdown",
   "metadata": {},
   "source": [
    "### rewind(), seek(), & tell()"
   ]
  },
  {
   "cell_type": "code",
   "execution_count": 34,
   "metadata": {},
   "outputs": [
    {
     "name": "stdout",
     "output_type": "stream",
     "text": [
      "25 Row, row, row our boat, \n",
      "\n",
      "25 Gently down the stream. \n",
      "\n"
     ]
    }
   ],
   "source": [
    "in_file = open(\"rowboat.txt\", \"r\")\n",
    "line = in_file.readline()\n",
    "print(len(line), line)\n",
    "\n",
    "line = in_file.readline()\n",
    "print(len(line), line)"
   ]
  },
  {
   "cell_type": "code",
   "execution_count": 35,
   "metadata": {},
   "outputs": [
    {
     "name": "stdout",
     "output_type": "stream",
     "text": [
      "Row, row, row our boat, \n",
      "25\n",
      "26\n"
     ]
    }
   ],
   "source": [
    "rewind(in_file)\n",
    "\n",
    "line = in_file.readline()\n",
    "print(line, end='')\n",
    "\n",
    "print(len(line))\n",
    "print(in_file.tell())  # read new-line character ('\\n')"
   ]
  },
  {
   "cell_type": "code",
   "execution_count": 36,
   "metadata": {},
   "outputs": [
    {
     "name": "stdout",
     "output_type": "stream",
     "text": [
      "Row, row, row our boat, \n",
      "25\n",
      "26\n"
     ]
    }
   ],
   "source": [
    "in_file.seek(0)\n",
    "\n",
    "line = in_file.readline()\n",
    "print(line, end='')\n",
    "\n",
    "print(len(line))\n",
    "print(in_file.tell())  # read new-line character ('\\n')"
   ]
  },
  {
   "cell_type": "code",
   "execution_count": 3,
   "metadata": {},
   "outputs": [
    {
     "name": "stdout",
     "output_type": "stream",
     "text": [
      "w our boat, \n",
      "13\n",
      "26\n"
     ]
    }
   ],
   "source": [
    "in_file.seek(12)\n",
    "\n",
    "line = in_file.readline()\n",
    "print(line, end='')\n",
    "\n",
    "print(len(line))\n",
    "print(in_file.tell())  "
   ]
  },
  {
   "cell_type": "code",
   "execution_count": 4,
   "metadata": {},
   "outputs": [],
   "source": [
    "def print_all(fptr) :\n",
    "    print(fptr.read())\n",
    "    \n",
    "def print_line(line_no, fptr) :\n",
    "    print(line_no, fptr.readline())\n",
    "    \n",
    "def rewind(fptr) :\n",
    "    fptr.seek(0)"
   ]
  },
  {
   "cell_type": "code",
   "execution_count": 5,
   "metadata": {},
   "outputs": [
    {
     "name": "stdout",
     "output_type": "stream",
     "text": [
      "File Dump: \n",
      "\n",
      "Row, row, row our boat, \n",
      "Gently down the stream. \n",
      "Merrily, merrily, merrily, merrily, \n",
      "Life is but a dream.\n",
      "\n",
      "1 Row, row, row our boat, \n",
      "\n",
      "2 Gently down the stream. \n",
      "\n",
      "3 Merrily, merrily, merrily, merrily, \n",
      "\n",
      "4 Life is but a dream.\n"
     ]
    }
   ],
   "source": [
    "try:\n",
    "    in_file = open(\"rowboat.txt\", \"r\")\n",
    "    print(\"File Dump: \\n\")\n",
    "    print_all(in_file)\n",
    "    rewind(in_file)\n",
    "\n",
    "    print()\n",
    "    line_no = 1\n",
    "    print_line(line_no, in_file)    \n",
    "    \n",
    "    line_no += 1\n",
    "    print_line(line_no, in_file)\n",
    "        \n",
    "    line_no += 1\n",
    "    print_line(line_no, in_file)\n",
    "        \n",
    "    line_no += 1\n",
    "    print_line(line_no, in_file)\n",
    "    \n",
    "except:\n",
    "    print(\"file doesn't exist.\")\n",
    "else:\n",
    "    in_file.close()\n"
   ]
  },
  {
   "cell_type": "markdown",
   "metadata": {},
   "source": [
    "#### bineary file"
   ]
  },
  {
   "cell_type": "code",
   "execution_count": 6,
   "metadata": {},
   "outputs": [],
   "source": [
    "in_bfile = open(\"binary_data.bin\", \"wb\")\n",
    "sample = bytes(\"Hello\".encode(\"ascii\"))   #  encode () returns an encoded version of the string. \n",
    "in_bfile.write(sample)\n",
    "in_bfile.close()"
   ]
  },
  {
   "cell_type": "code",
   "execution_count": 7,
   "metadata": {
    "scrolled": true
   },
   "outputs": [
    {
     "name": "stdout",
     "output_type": "stream",
     "text": [
      "b'Hello'\n"
     ]
    }
   ],
   "source": [
    "in_bfile = open(\"binary_data.bin\", \"rb\")\n",
    "print(in_bfile.read())\n",
    "in_bfile.close()"
   ]
  },
  {
   "cell_type": "code",
   "execution_count": 9,
   "metadata": {},
   "outputs": [
    {
     "name": "stdout",
     "output_type": "stream",
     "text": [
      "Binary sentence: b'ld!'\n",
      "ASCII sentence:  ld!\n"
     ]
    }
   ],
   "source": [
    "in_bfile = open(\"binary_data2.bin\", \"wb+\")\n",
    "sample = bytes(\"Hello, world!\".encode(\"ascii\"))\n",
    "in_bfile.write(sample)\n",
    "\n",
    "in_bfile.seek(10)\n",
    "bdata = in_bfile.read()\n",
    "\n",
    "print(\"Binary sentence:\", bdata)\n",
    "print(\"ASCII sentence: \", bdata.decode(\"ascii\"))\n",
    "\n",
    "in_bfile.close()"
   ]
  },
  {
   "cell_type": "code",
   "execution_count": 10,
   "metadata": {},
   "outputs": [
    {
     "data": {
      "text/plain": [
       "bytes"
      ]
     },
     "execution_count": 10,
     "metadata": {},
     "output_type": "execute_result"
    }
   ],
   "source": [
    "type(bdata)"
   ]
  },
  {
   "cell_type": "code",
   "execution_count": 11,
   "metadata": {},
   "outputs": [],
   "source": [
    "in_bfile = open(\"binary_array.bin\", \"wb\")\n",
    "numb = [10, 20, 30, 40, 50]\n",
    "\n",
    "sample = bytes(numb)\n",
    "in_bfile.write(sample)\n",
    "in_bfile.close()"
   ]
  },
  {
   "cell_type": "code",
   "execution_count": 12,
   "metadata": {},
   "outputs": [
    {
     "name": "stdout",
     "output_type": "stream",
     "text": [
      "[10, 20, 30, 40, 50]\n"
     ]
    }
   ],
   "source": [
    "in_bfile = open(\"binary_array.bin\", \"rb\")\n",
    "print(list(in_bfile.read()))\n",
    "in_bfile.close()"
   ]
  },
  {
   "cell_type": "code",
   "execution_count": 13,
   "metadata": {},
   "outputs": [
    {
     "name": "stdout",
     "output_type": "stream",
     "text": [
      "[10, 20, 30, 40, 50]\n",
      "b'\\n\\x14\\x1e(2'\n"
     ]
    }
   ],
   "source": [
    "in_bfile = open(\"binary_array.bin\", \"rb\")\n",
    "sample = in_bfile.read()\n",
    "print(list(sample))\n",
    "print(sample)\n",
    "in_bfile.close()"
   ]
  },
  {
   "cell_type": "code",
   "execution_count": 14,
   "metadata": {},
   "outputs": [
    {
     "name": "stdout",
     "output_type": "stream",
     "text": [
      "255\n"
     ]
    }
   ],
   "source": [
    "# bineary file - copy\n",
    "in_bfile = open(\"mc_image.jpeg\", \"rb\")\n",
    "data = in_bfile.read()\n",
    "print(data[0])"
   ]
  },
  {
   "cell_type": "code",
   "execution_count": 15,
   "metadata": {},
   "outputs": [
    {
     "name": "stdout",
     "output_type": "stream",
     "text": [
      "b'\\xff\\xd8\\xff\\xe0\\x00\\x10JFIF'\n"
     ]
    }
   ],
   "source": [
    "print(data[0:10])"
   ]
  },
  {
   "cell_type": "code",
   "execution_count": 16,
   "metadata": {},
   "outputs": [],
   "source": [
    "out_bfile = open(\"mc_image_copy.jpeg\", \"wb\")\n",
    "out_bfile.write(data)\n",
    "out_bfile.close()\n",
    "in_bfile.close()\n"
   ]
  },
  {
   "cell_type": "markdown",
   "metadata": {},
   "source": [
    "### Exercise 4.\n",
    "1. Write your message to a file called <b>exercise2.txt</b> and close the file.\n",
    "2. Append the \"I got this!\" message to your file.\n",
    "3. Then, print the content of <b>exercise2.txt</b>."
   ]
  },
  {
   "cell_type": "code",
   "execution_count": null,
   "metadata": {},
   "outputs": [],
   "source": [
    "# open exercise2.txt for writing\n",
    "\n",
    "# write the \"I got this!\" message to the file\n",
    "\n",
    "\n",
    "# close the file\n",
    "\n",
    "\n",
    "# open a file for appending\n",
    "\n",
    "\n",
    "# write the new message, \"I go this!\"\n",
    "\n",
    "\n",
    "# move the file pointer to the beginning\n",
    "\n",
    "\n",
    "# read data\n",
    "\n",
    "\n",
    "# print the content\n",
    "for line in data :\n",
    "    print(line, end='')\n",
    "    \n",
    "fptr.close()\n"
   ]
  },
  {
   "cell_type": "code",
   "execution_count": null,
   "metadata": {},
   "outputs": [],
   "source": []
  },
  {
   "cell_type": "markdown",
   "metadata": {},
   "source": [
    "## with statement"
   ]
  },
  {
   "cell_type": "code",
   "execution_count": 18,
   "metadata": {},
   "outputs": [
    {
     "name": "stdout",
     "output_type": "stream",
     "text": [
      "rowboat2.txt doesn't exist!\n"
     ]
    }
   ],
   "source": [
    "try :\n",
    "    with open(\"rowboat2.txt\") as data_file :\n",
    "        for line in data_file :   #using for loop to read a line at a time\n",
    "            print(type(line))\n",
    "            print(line)\n",
    "except:\n",
    "    print(\"rowboat2.txt doesn't exist!\")\n"
   ]
  },
  {
   "cell_type": "code",
   "execution_count": 19,
   "metadata": {},
   "outputs": [
    {
     "data": {
      "text/plain": [
       "25"
      ]
     },
     "execution_count": 19,
     "metadata": {},
     "output_type": "execute_result"
    }
   ],
   "source": [
    "out_file = open('my_file', 'w')\n",
    "out_file.write(\"Hello World.\\nHere I come!\")\n",
    "#check the file size"
   ]
  },
  {
   "cell_type": "code",
   "execution_count": 20,
   "metadata": {},
   "outputs": [],
   "source": [
    "out_file.close()  \n",
    "#check the file size again"
   ]
  },
  {
   "cell_type": "code",
   "execution_count": 21,
   "metadata": {},
   "outputs": [],
   "source": [
    "with open(\"rowboat2.txt\", \"w\") as data_file :\n",
    "    data_file.write(\"Hello World.\\nHere I come!\")\n",
    "#    input(\"check file size\")\n",
    "    \n",
    "#check the file size    "
   ]
  },
  {
   "cell_type": "code",
   "execution_count": null,
   "metadata": {},
   "outputs": [],
   "source": []
  },
  {
   "cell_type": "markdown",
   "metadata": {},
   "source": [
    "## csv file"
   ]
  },
  {
   "cell_type": "code",
   "execution_count": 23,
   "metadata": {},
   "outputs": [],
   "source": [
    "import csv                 # to read csv files"
   ]
  },
  {
   "cell_type": "markdown",
   "metadata": {},
   "source": [
    "<b><i>Note:</i></b>\n",
    "In Python 3 running in WindowOS, writerows() puts newline after each row.\n",
    "\n",
    "You need to add newline='' in the open().\n",
    "\n",
    "Example, open(<i>file_name</i>, \\'w\\', <b>newline=\\'\\'</b>)"
   ]
  },
  {
   "cell_type": "code",
   "execution_count": 24,
   "metadata": {},
   "outputs": [],
   "source": [
    "# without newline option\n",
    "\n",
    "header = [\"Title\", \"Year\", \"Genre\"]\n",
    "\n",
    "out_csv_file = open(\"movies3-copy1.csv\", \"w\")  # Python 3\n",
    "csv_out = csv.writer(out_csv_file)\n",
    "csv_out.writerow(header)\n",
    "csv_out.writerow(header)\n",
    "csv_out.writerow(header)\n",
    "out_csv_file.close()\n",
    " "
   ]
  },
  {
   "cell_type": "code",
   "execution_count": 25,
   "metadata": {},
   "outputs": [],
   "source": [
    "# with newline option\n",
    "\n",
    "out_csv_file = open(\"movies3-copy2.csv\", \"w\", newline='')  # Python 3\n",
    "csv_out = csv.writer(out_csv_file)\n",
    "csv_out.writerow(header)\n",
    "csv_out.writerow(header)\n",
    "csv_out.writerow(header)\n",
    "out_csv_file.close()\n",
    " \n",
    "# open both files and compare "
   ]
  },
  {
   "cell_type": "markdown",
   "metadata": {},
   "source": [
    "#### copy file"
   ]
  },
  {
   "cell_type": "code",
   "execution_count": 26,
   "metadata": {},
   "outputs": [
    {
     "name": "stdout",
     "output_type": "stream",
     "text": [
      "['Toy Story', '1995', 'Animation']\n",
      "['Gladiator', '2000', 'Action']\n",
      "['Snow White', '1950', 'Animation']\n"
     ]
    }
   ],
   "source": [
    "# read movies.csv\n",
    "\n",
    "try :\n",
    "    with open(\"movies.csv\") as data_file :\n",
    "        csv_data = csv.reader(data_file)\n",
    "\n",
    "        for row in csv_data :\n",
    "            print(row)\n",
    "    \n",
    "except :\n",
    "    print(\"ERROR: movies.csv doesn't exist!\")"
   ]
  },
  {
   "cell_type": "code",
   "execution_count": 27,
   "metadata": {},
   "outputs": [],
   "source": [
    "# write header information\n",
    "out_csv_file = open(\"movies2-copy.csv\", \"w\", newline='')  \n",
    "csv_out = csv.writer(out_csv_file)\n",
    "csv_out.writerow(header)\n",
    "out_csv_file.close()"
   ]
  },
  {
   "cell_type": "code",
   "execution_count": 28,
   "metadata": {},
   "outputs": [
    {
     "ename": "ValueError",
     "evalue": "I/O operation on closed file.",
     "output_type": "error",
     "traceback": [
      "\u001b[1;31m---------------------------------------------------------------------------\u001b[0m",
      "\u001b[1;31mValueError\u001b[0m                                Traceback (most recent call last)",
      "\u001b[1;32m<ipython-input-28-62c35c4ced48>\u001b[0m in \u001b[0;36m<module>\u001b[1;34m\u001b[0m\n\u001b[0;32m      3\u001b[0m \u001b[1;32mwith\u001b[0m \u001b[0mopen\u001b[0m\u001b[1;33m(\u001b[0m\u001b[1;34m\"movies2-copy.csv\"\u001b[0m\u001b[1;33m,\u001b[0m \u001b[1;34m\"a\"\u001b[0m\u001b[1;33m)\u001b[0m \u001b[1;32mas\u001b[0m \u001b[0mout_csv_file\u001b[0m \u001b[1;33m:\u001b[0m\u001b[1;33m\u001b[0m\u001b[1;33m\u001b[0m\u001b[0m\n\u001b[0;32m      4\u001b[0m     \u001b[0mcsv_out\u001b[0m \u001b[1;33m=\u001b[0m \u001b[0mcsv\u001b[0m\u001b[1;33m.\u001b[0m\u001b[0mwriter\u001b[0m\u001b[1;33m(\u001b[0m\u001b[0mout_csv_file\u001b[0m\u001b[1;33m)\u001b[0m\u001b[1;33m\u001b[0m\u001b[1;33m\u001b[0m\u001b[0m\n\u001b[1;32m----> 5\u001b[1;33m     \u001b[1;32mfor\u001b[0m \u001b[0mrow\u001b[0m \u001b[1;32min\u001b[0m \u001b[0mcsv_data\u001b[0m \u001b[1;33m:\u001b[0m\u001b[1;33m\u001b[0m\u001b[1;33m\u001b[0m\u001b[0m\n\u001b[0m\u001b[0;32m      6\u001b[0m         \u001b[0mcsv_out\u001b[0m\u001b[1;33m.\u001b[0m\u001b[0mwriterow\u001b[0m\u001b[1;33m(\u001b[0m\u001b[0mrow\u001b[0m\u001b[1;33m)\u001b[0m\u001b[1;33m\u001b[0m\u001b[1;33m\u001b[0m\u001b[0m\n\u001b[0;32m      7\u001b[0m \u001b[1;33m\u001b[0m\u001b[0m\n",
      "\u001b[1;31mValueError\u001b[0m: I/O operation on closed file."
     ]
    }
   ],
   "source": [
    "# write content from movies.csv to movies2-copy.csv file\n",
    "\n",
    "with open(\"movies2-copy.csv\", \"a\") as out_csv_file :    \n",
    "    csv_out = csv.writer(out_csv_file)\n",
    "    for row in csv_data :\n",
    "        csv_out.writerow(row)\n",
    "\n",
    "        \n",
    "        \n",
    "# what happened?  csv_data is pointing to closed file"
   ]
  },
  {
   "cell_type": "code",
   "execution_count": 29,
   "metadata": {},
   "outputs": [
    {
     "data": {
      "text/plain": [
       "True"
      ]
     },
     "execution_count": 29,
     "metadata": {},
     "output_type": "execute_result"
    }
   ],
   "source": [
    "out_csv_file.closed   # out_csv_file is already closed"
   ]
  },
  {
   "cell_type": "code",
   "execution_count": 30,
   "metadata": {},
   "outputs": [],
   "source": [
    "with open(\"movies.csv\") as data_file :\n",
    "    csv_data = csv.reader(data_file)\n",
    "\n",
    "    out_csv_file = open(\"movies-copy.csv\", \"w\", newline='')  # Python 3\n",
    "    csv_out = csv.writer(out_csv_file)\n",
    "    csv_out.writerow(header)\n",
    "    \n",
    "    for row in csv_data :\n",
    "        csv_out.writerow(row)\n",
    "        \n",
    "    out_csv_file.close()"
   ]
  },
  {
   "cell_type": "code",
   "execution_count": 31,
   "metadata": {},
   "outputs": [],
   "source": [
    "# OR \n",
    "\n",
    "with open(\"movies.csv\") as data_file :\n",
    "    csv_data = csv.reader(data_file)\n",
    "\n",
    "    with  open(\"movies-copy2.csv\", \"w\", newline='') as out_csv_file :    \n",
    "        csv_out = csv.writer(out_csv_file)\n",
    "        csv_out.writerow(header)\n",
    "        \n",
    "        for row in csv_data :\n",
    "            csv_out.writerow(row)\n",
    "        \n",
    "    "
   ]
  },
  {
   "cell_type": "code",
   "execution_count": 32,
   "metadata": {},
   "outputs": [
    {
     "name": "stdout",
     "output_type": "stream",
     "text": [
      "Check files\n"
     ]
    }
   ],
   "source": [
    "# write multiple rows\n",
    "\n",
    "movies = [[\"The Wizard of Oz\", 1939, \"Drama\"], [\"Modern Times\", 1936, \"Comedy\"], \n",
    "          [\"Singing in the Rain\", 1952, \"Musical\"], [\"Psycho\", 1960, \"Thriller\"],\n",
    "          [\"King Kong\", 1933, \"Sci-Fi\"]]\n",
    "\n",
    "with  open(\"movies-copy.csv\", \"a\", newline=\"\") as out_csv_file :    \n",
    "        csv_out = csv.writer(out_csv_file)        \n",
    "        csv_out.writerows(movies)\n",
    "        \n",
    "print(\"Check files\")        "
   ]
  },
  {
   "cell_type": "code",
   "execution_count": null,
   "metadata": {},
   "outputs": [],
   "source": []
  },
  {
   "cell_type": "markdown",
   "metadata": {},
   "source": [
    "### Read <b>movies.csv</b> file to <i>load</i> data.\n",
    "File's first line contains header information."
   ]
  },
  {
   "cell_type": "code",
   "execution_count": 33,
   "metadata": {},
   "outputs": [
    {
     "name": "stdout",
     "output_type": "stream",
     "text": [
      "[{'Title': 'Toy Story', 'Year': '1995', 'Genre': 'Animation'}, {'Title': 'Gladiator', 'Year': '2000', 'Genre': 'Action'}, {'Title': 'Snow White', 'Year': '1950', 'Genre': 'Animation'}, {'Title': 'The Wizard of Oz', 'Year': '1939', 'Genre': 'Drama'}, {'Title': 'Modern Times', 'Year': '1936', 'Genre': 'Comedy'}, {'Title': 'Singing in the Rain', 'Year': '1952', 'Genre': 'Musical'}, {'Title': 'Psycho', 'Year': '1960', 'Genre': 'Thriller'}, {'Title': 'King Kong', 'Year': '1933', 'Genre': 'Sci-Fi'}]\n"
     ]
    }
   ],
   "source": [
    "counter = 0\n",
    "header = [''] * 3\n",
    "movies = []\n",
    "\n",
    "try :\n",
    "    with open(\"movies-copy.csv\") as data_file :\n",
    "        csv_data = csv.reader(data_file)\n",
    "\n",
    "        for row in csv_data :    # 0: name, 1: year, 2: genre\n",
    "            movie = {}           # initialize movie\n",
    "\n",
    "            if counter == 0 :    # for header information\n",
    "                header[0] = row[0].strip()\n",
    "                header[1] = row[1].strip()\n",
    "                header[2] = row[2].strip()                \n",
    "            else :    \n",
    "                movie[header[0]] = row[0].strip() \n",
    "                movie[header[1]] = row[1].strip() \n",
    "                movie[header[2]] = row[2].strip()                 \n",
    "                movies.append(movie)\n",
    "\n",
    "            counter += 1    \n",
    "    \n",
    "except :\n",
    "    print(\"ERROR: movies.csv doesn't exist!\")\n",
    "    \n",
    "finally:\n",
    "    print(movies)"
   ]
  },
  {
   "cell_type": "markdown",
   "metadata": {},
   "source": [
    "### Exercise 5\n",
    "Write a function called <b>save_data</b> to save the content of movies dictionary.  The requirements are:\n",
    "\n",
    "        - a file name passed as the first argument\n",
    "        - a data dictionary is passed as the second argument\n",
    "        - the first line in a file must contain header information\n"
   ]
  },
  {
   "cell_type": "code",
   "execution_count": null,
   "metadata": {},
   "outputs": [],
   "source": [
    "# fix bugs\n",
    "\n",
    "def save_data(filename, movie_list):\n",
    "    # initialization\n",
    "    has_header = False\n",
    "    counter = 0\n",
    "    all_rows = []\n",
    "\n",
    "    # open a file and prepare for writing\n",
    "    file = open(filename, \"w\")\n",
    "    csv_out = csv.writer(file)\n",
    "    \n",
    "    for movie in movie_list :  # list of dictionaries\n",
    "        row = []\n",
    "        header = []\n",
    "        \n",
    "        for key, val in  :\n",
    "            header.append()\n",
    "            row.append()\n",
    "            \n",
    "        if not has_header :            \n",
    "            csv_out.writerow(header)\n",
    "\n",
    "        # write row    \n",
    "        csv_out.writerow(row)\n",
    "        \n",
    "    file.close()"
   ]
  },
  {
   "cell_type": "code",
   "execution_count": null,
   "metadata": {},
   "outputs": [],
   "source": [
    "movies = [{'title': 'Toy Story', 'year': '1995', 'genre': 'Animation'}, \n",
    "          {'title': 'Gladiator', 'year': '2000', 'genre': 'Action'}, \n",
    "          {'title': 'Snow White', 'year': '1950', 'genre': 'Animation'}]\n",
    "\n",
    "save_data(\"test3.csv\", movies)"
   ]
  }
 ],
 "metadata": {
  "kernelspec": {
   "display_name": "Python 3 (ipykernel)",
   "language": "python",
   "name": "python3"
  },
  "language_info": {
   "codemirror_mode": {
    "name": "ipython",
    "version": 3
   },
   "file_extension": ".py",
   "mimetype": "text/x-python",
   "name": "python",
   "nbconvert_exporter": "python",
   "pygments_lexer": "ipython3",
   "version": "3.9.7"
  }
 },
 "nbformat": 4,
 "nbformat_minor": 2
}
